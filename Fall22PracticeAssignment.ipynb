{
  "nbformat": 4,
  "nbformat_minor": 0,
  "metadata": {
    "colab": {
      "name": "Fall22PracticeAssignment.ipynb",
      "provenance": [],
      "collapsed_sections": [],
      "authorship_tag": "ABX9TyMGctVTS4ot8I3w6NuyjRho",
      "include_colab_link": true
    },
    "kernelspec": {
      "name": "python3",
      "display_name": "Python 3"
    },
    "language_info": {
      "name": "python"
    }
  },
  "cells": [
    {
      "cell_type": "markdown",
      "metadata": {
        "id": "view-in-github",
        "colab_type": "text"
      },
      "source": [
        "<a href=\"https://colab.research.google.com/github/urness/CS167Fall22PracticeAssignment/blob/main/Fall22PracticeAssignment.ipynb\" target=\"_parent\"><img src=\"https://colab.research.google.com/assets/colab-badge.svg\" alt=\"Open In Colab\"/></a>"
      ]
    },
    {
      "cell_type": "markdown",
      "source": [
        "# Practice Assignment \n",
        "The goal of this assignment is to get you familiar with using GitHub classroom and begin using Google Colab (www.colab.research.google.com). \n",
        "\n",
        "Below you will find a few tasks. Please complete them and submit your completed notebook to GitHub classroom.\n",
        "## Exercise Overview:\n",
        "1. Hello World\n",
        "2. Create a text cell that has the specified content.\n",
        "3. Create a code cell with a simple function and test it\n",
        "\n",
        "***"
      ],
      "metadata": {
        "id": "WMAGe0pq3R8L"
      }
    },
    {
      "cell_type": "markdown",
      "source": [
        "# Exercise #1"
      ],
      "metadata": {
        "id": "K3JH-TmI3cjq"
      }
    },
    {
      "cell_type": "code",
      "source": [
        "#As with any new environment, start out by printing out Hello World\n",
        "#-------Your Code should go below-------------\n",
        "\n",
        "\n",
        "# to run a cell, use the shortcut <shift + return> Try it now!"
      ],
      "metadata": {
        "id": "hZKh-s6L3cL1"
      },
      "execution_count": null,
      "outputs": []
    }
  ]
}